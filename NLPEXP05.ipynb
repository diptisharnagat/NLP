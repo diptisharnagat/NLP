{
  "nbformat": 4,
  "nbformat_minor": 0,
  "metadata": {
    "colab": {
      "provenance": [],
      "authorship_tag": "ABX9TyMSVXfQ+zoCUFT+uYhEEjQa",
      "include_colab_link": true
    },
    "kernelspec": {
      "name": "python3",
      "display_name": "Python 3"
    },
    "language_info": {
      "name": "python"
    }
  },
  "cells": [
    {
      "cell_type": "markdown",
      "metadata": {
        "id": "view-in-github",
        "colab_type": "text"
      },
      "source": [
        "<a href=\"https://colab.research.google.com/github/diptisharnagat/NLP/blob/main/NLPEXP05.ipynb\" target=\"_parent\"><img src=\"https://colab.research.google.com/assets/colab-badge.svg\" alt=\"Open In Colab\"/></a>"
      ]
    },
    {
      "cell_type": "markdown",
      "source": [
        "Parts of Speech\n",
        "Tag|Meaning|English Examples\n",
        "ADJ|adjective|new, good, high, special, big, local\n",
        "ADP|adposition|on, of, at, with, by, into, under\n",
        "ADV|adverb|really, already, still, early, now\n",
        "CONJ|conjunction|and, or, but, if, while, although\n",
        "DET|determiner, article|the, a, some, most, every, no, which\n",
        "NOUN|noun|year, home, costs, time, Africa\n",
        "NUM|numeral|twenty-four, fourth, 1991, 14:24\n",
        "PRT|particle|at, on, out, over per, that, up, with\n",
        "PRON|pronoun|he, their, her, its, my, I, us\n",
        "VERB|verb|is, say, told, given, playing, would\n",
        ".|punctuation marks|. , ; !\n",
        "X|other|ersatz, esprit, dunno, gr8, univeristy"
      ],
      "metadata": {
        "id": "mxQEEDo8eshj"
      }
    },
    {
      "cell_type": "code",
      "source": [
        "text = \"ParagraphParagraphs are the group of sentences combined together, about a certain topic. It is a very important form of writing as we write almost everything in paragraphs, be it an answer, essay, story, emails, etc. We can say that a well-structured paragraph is the essence of good writing. The purposes of the paragraph are to give information, to explain something, to tell a story, and to convince someone that our idea is right.\""
      ],
      "metadata": {
        "id": "8cNr4pTCeyux"
      },
      "execution_count": 1,
      "outputs": []
    },
    {
      "cell_type": "markdown",
      "source": [
        "Importing necessary dependencies\n"
      ],
      "metadata": {
        "id": "-CNmrz5RfRaN"
      }
    },
    {
      "cell_type": "code",
      "source": [
        "import nltk\n",
        "from nltk.tokenize import word_tokenize"
      ],
      "metadata": {
        "id": "pcWh2gE_fTk_"
      },
      "execution_count": 2,
      "outputs": []
    },
    {
      "cell_type": "markdown",
      "source": [
        "Word Tokenization\n"
      ],
      "metadata": {
        "id": "48dk0_qkfW_t"
      }
    },
    {
      "cell_type": "code",
      "source": [
        " nltk.download('punkt')"
      ],
      "metadata": {
        "colab": {
          "base_uri": "https://localhost:8080/"
        },
        "id": "PPaouvPPfil1",
        "outputId": "aa576763-5d31-4a00-e909-4efc77926a7a"
      },
      "execution_count": 4,
      "outputs": [
        {
          "output_type": "stream",
          "name": "stderr",
          "text": [
            "[nltk_data] Downloading package punkt to /root/nltk_data...\n",
            "[nltk_data]   Unzipping tokenizers/punkt.zip.\n"
          ]
        },
        {
          "output_type": "execute_result",
          "data": {
            "text/plain": [
              "True"
            ]
          },
          "metadata": {},
          "execution_count": 4
        }
      ]
    },
    {
      "cell_type": "code",
      "source": [
        "words = word_tokenize(text)"
      ],
      "metadata": {
        "id": "DeydTLX8fb1j"
      },
      "execution_count": 5,
      "outputs": []
    },
    {
      "cell_type": "markdown",
      "source": [
        "Parts of Speech Tagging"
      ],
      "metadata": {
        "id": "37Ys93Z5fyJY"
      }
    },
    {
      "cell_type": "code",
      "source": [
        "import nltk"
      ],
      "metadata": {
        "id": "BMyCKEG4gITB"
      },
      "execution_count": 9,
      "outputs": []
    },
    {
      "cell_type": "code",
      "source": [
        "nltk.download('averaged_perceptron_tagger')"
      ],
      "metadata": {
        "colab": {
          "base_uri": "https://localhost:8080/"
        },
        "id": "kBtLZZzKf6Yx",
        "outputId": "f4205629-63cc-40e9-9949-0d055325e6ac"
      },
      "execution_count": 7,
      "outputs": [
        {
          "output_type": "stream",
          "name": "stderr",
          "text": [
            "[nltk_data] Downloading package averaged_perceptron_tagger to\n",
            "[nltk_data]     /root/nltk_data...\n",
            "[nltk_data]   Unzipping taggers/averaged_perceptron_tagger.zip.\n"
          ]
        },
        {
          "output_type": "execute_result",
          "data": {
            "text/plain": [
              "True"
            ]
          },
          "metadata": {},
          "execution_count": 7
        }
      ]
    },
    {
      "cell_type": "code",
      "source": [
        "tagged_words = nltk.pos_tag(words, tagset = 'everything')"
      ],
      "metadata": {
        "id": "RqWVZmqAftJw"
      },
      "execution_count": 11,
      "outputs": []
    },
    {
      "cell_type": "code",
      "source": [
        "tagged_words"
      ],
      "metadata": {
        "colab": {
          "base_uri": "https://localhost:8080/"
        },
        "id": "7_d7gj1Bgxfs",
        "outputId": "018e3895-80fd-40e6-a33f-954de6164a14"
      },
      "execution_count": 12,
      "outputs": [
        {
          "output_type": "execute_result",
          "data": {
            "text/plain": [
              "[('ParagraphParagraphs', 'UNK'),\n",
              " ('are', 'UNK'),\n",
              " ('the', 'UNK'),\n",
              " ('group', 'UNK'),\n",
              " ('of', 'UNK'),\n",
              " ('sentences', 'UNK'),\n",
              " ('combined', 'UNK'),\n",
              " ('together', 'UNK'),\n",
              " (',', 'UNK'),\n",
              " ('about', 'UNK'),\n",
              " ('a', 'UNK'),\n",
              " ('certain', 'UNK'),\n",
              " ('topic', 'UNK'),\n",
              " ('.', 'UNK'),\n",
              " ('It', 'UNK'),\n",
              " ('is', 'UNK'),\n",
              " ('a', 'UNK'),\n",
              " ('very', 'UNK'),\n",
              " ('important', 'UNK'),\n",
              " ('form', 'UNK'),\n",
              " ('of', 'UNK'),\n",
              " ('writing', 'UNK'),\n",
              " ('as', 'UNK'),\n",
              " ('we', 'UNK'),\n",
              " ('write', 'UNK'),\n",
              " ('almost', 'UNK'),\n",
              " ('everything', 'UNK'),\n",
              " ('in', 'UNK'),\n",
              " ('paragraphs', 'UNK'),\n",
              " (',', 'UNK'),\n",
              " ('be', 'UNK'),\n",
              " ('it', 'UNK'),\n",
              " ('an', 'UNK'),\n",
              " ('answer', 'UNK'),\n",
              " (',', 'UNK'),\n",
              " ('essay', 'UNK'),\n",
              " (',', 'UNK'),\n",
              " ('story', 'UNK'),\n",
              " (',', 'UNK'),\n",
              " ('emails', 'UNK'),\n",
              " (',', 'UNK'),\n",
              " ('etc', 'UNK'),\n",
              " ('.', 'UNK'),\n",
              " ('We', 'UNK'),\n",
              " ('can', 'UNK'),\n",
              " ('say', 'UNK'),\n",
              " ('that', 'UNK'),\n",
              " ('a', 'UNK'),\n",
              " ('well-structured', 'UNK'),\n",
              " ('paragraph', 'UNK'),\n",
              " ('is', 'UNK'),\n",
              " ('the', 'UNK'),\n",
              " ('essence', 'UNK'),\n",
              " ('of', 'UNK'),\n",
              " ('good', 'UNK'),\n",
              " ('writing', 'UNK'),\n",
              " ('.', 'UNK'),\n",
              " ('The', 'UNK'),\n",
              " ('purposes', 'UNK'),\n",
              " ('of', 'UNK'),\n",
              " ('the', 'UNK'),\n",
              " ('paragraph', 'UNK'),\n",
              " ('are', 'UNK'),\n",
              " ('to', 'UNK'),\n",
              " ('give', 'UNK'),\n",
              " ('information', 'UNK'),\n",
              " (',', 'UNK'),\n",
              " ('to', 'UNK'),\n",
              " ('explain', 'UNK'),\n",
              " ('something', 'UNK'),\n",
              " (',', 'UNK'),\n",
              " ('to', 'UNK'),\n",
              " ('tell', 'UNK'),\n",
              " ('a', 'UNK'),\n",
              " ('story', 'UNK'),\n",
              " (',', 'UNK'),\n",
              " ('and', 'UNK'),\n",
              " ('to', 'UNK'),\n",
              " ('convince', 'UNK'),\n",
              " ('someone', 'UNK'),\n",
              " ('that', 'UNK'),\n",
              " ('our', 'UNK'),\n",
              " ('idea', 'UNK'),\n",
              " ('is', 'UNK'),\n",
              " ('right', 'UNK'),\n",
              " ('.', 'UNK')]"
            ]
          },
          "metadata": {},
          "execution_count": 12
        }
      ]
    },
    {
      "cell_type": "code",
      "source": [
        "for t in tagged_words:\n",
        "    print(t)"
      ],
      "metadata": {
        "colab": {
          "base_uri": "https://localhost:8080/"
        },
        "id": "e0EQlEh4g4YP",
        "outputId": "0eec4d78-f769-46d6-eb5b-0a326dff4ba3"
      },
      "execution_count": 13,
      "outputs": [
        {
          "output_type": "stream",
          "name": "stdout",
          "text": [
            "('ParagraphParagraphs', 'UNK')\n",
            "('are', 'UNK')\n",
            "('the', 'UNK')\n",
            "('group', 'UNK')\n",
            "('of', 'UNK')\n",
            "('sentences', 'UNK')\n",
            "('combined', 'UNK')\n",
            "('together', 'UNK')\n",
            "(',', 'UNK')\n",
            "('about', 'UNK')\n",
            "('a', 'UNK')\n",
            "('certain', 'UNK')\n",
            "('topic', 'UNK')\n",
            "('.', 'UNK')\n",
            "('It', 'UNK')\n",
            "('is', 'UNK')\n",
            "('a', 'UNK')\n",
            "('very', 'UNK')\n",
            "('important', 'UNK')\n",
            "('form', 'UNK')\n",
            "('of', 'UNK')\n",
            "('writing', 'UNK')\n",
            "('as', 'UNK')\n",
            "('we', 'UNK')\n",
            "('write', 'UNK')\n",
            "('almost', 'UNK')\n",
            "('everything', 'UNK')\n",
            "('in', 'UNK')\n",
            "('paragraphs', 'UNK')\n",
            "(',', 'UNK')\n",
            "('be', 'UNK')\n",
            "('it', 'UNK')\n",
            "('an', 'UNK')\n",
            "('answer', 'UNK')\n",
            "(',', 'UNK')\n",
            "('essay', 'UNK')\n",
            "(',', 'UNK')\n",
            "('story', 'UNK')\n",
            "(',', 'UNK')\n",
            "('emails', 'UNK')\n",
            "(',', 'UNK')\n",
            "('etc', 'UNK')\n",
            "('.', 'UNK')\n",
            "('We', 'UNK')\n",
            "('can', 'UNK')\n",
            "('say', 'UNK')\n",
            "('that', 'UNK')\n",
            "('a', 'UNK')\n",
            "('well-structured', 'UNK')\n",
            "('paragraph', 'UNK')\n",
            "('is', 'UNK')\n",
            "('the', 'UNK')\n",
            "('essence', 'UNK')\n",
            "('of', 'UNK')\n",
            "('good', 'UNK')\n",
            "('writing', 'UNK')\n",
            "('.', 'UNK')\n",
            "('The', 'UNK')\n",
            "('purposes', 'UNK')\n",
            "('of', 'UNK')\n",
            "('the', 'UNK')\n",
            "('paragraph', 'UNK')\n",
            "('are', 'UNK')\n",
            "('to', 'UNK')\n",
            "('give', 'UNK')\n",
            "('information', 'UNK')\n",
            "(',', 'UNK')\n",
            "('to', 'UNK')\n",
            "('explain', 'UNK')\n",
            "('something', 'UNK')\n",
            "(',', 'UNK')\n",
            "('to', 'UNK')\n",
            "('tell', 'UNK')\n",
            "('a', 'UNK')\n",
            "('story', 'UNK')\n",
            "(',', 'UNK')\n",
            "('and', 'UNK')\n",
            "('to', 'UNK')\n",
            "('convince', 'UNK')\n",
            "('someone', 'UNK')\n",
            "('that', 'UNK')\n",
            "('our', 'UNK')\n",
            "('idea', 'UNK')\n",
            "('is', 'UNK')\n",
            "('right', 'UNK')\n",
            "('.', 'UNK')\n"
          ]
        }
      ]
    }
  ]
}