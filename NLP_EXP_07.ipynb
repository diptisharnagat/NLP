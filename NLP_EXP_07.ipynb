{
  "nbformat": 4,
  "nbformat_minor": 0,
  "metadata": {
    "colab": {
      "provenance": [],
      "authorship_tag": "ABX9TyNKIXu5sXmkQrko4c1pxRxq",
      "include_colab_link": true
    },
    "kernelspec": {
      "name": "python3",
      "display_name": "Python 3"
    },
    "language_info": {
      "name": "python"
    }
  },
  "cells": [
    {
      "cell_type": "markdown",
      "metadata": {
        "id": "view-in-github",
        "colab_type": "text"
      },
      "source": [
        "<a href=\"https://colab.research.google.com/github/diptisharnagat/NLP/blob/main/NLP_EXP_07.ipynb\" target=\"_parent\"><img src=\"https://colab.research.google.com/assets/colab-badge.svg\" alt=\"Open In Colab\"/></a>"
      ]
    },
    {
      "cell_type": "code",
      "execution_count": 1,
      "metadata": {
        "id": "iPGumbeZW_RE"
      },
      "outputs": [],
      "source": [
        "import spacy\n"
      ]
    },
    {
      "cell_type": "markdown",
      "source": [
        "Load the spaCy language model"
      ],
      "metadata": {
        "id": "xJsqlMCTXrod"
      }
    },
    {
      "cell_type": "code",
      "source": [
        "nlp = spacy.load(\"en_core_web_sm\")\n",
        "\n"
      ],
      "metadata": {
        "id": "8rhJUlDfXYZf"
      },
      "execution_count": 3,
      "outputs": []
    },
    {
      "cell_type": "markdown",
      "source": [
        "Sample text input"
      ],
      "metadata": {
        "id": "KDAGwM58Xu5C"
      }
    },
    {
      "cell_type": "code",
      "source": [
        "text = \"A paragraph is a self-contained unit of discourse in writing dealing with a particular point or idea.\""
      ],
      "metadata": {
        "id": "WfuDQirqXyRe"
      },
      "execution_count": 9,
      "outputs": []
    },
    {
      "cell_type": "markdown",
      "source": [
        "Process the text using spaCy"
      ],
      "metadata": {
        "id": "neqpBasHX6N7"
      }
    },
    {
      "cell_type": "code",
      "source": [
        "\n",
        "\n",
        "\n",
        "\n",
        "\n",
        "\n",
        "\n",
        "import spacy\n",
        "\n",
        "# Load the spaCy language model\n",
        "nlp = spacy.load(\"en_core_web_sm\")\n",
        "\n",
        "# Sample text input\n",
        "text = \"A paragraph is a self-contained unit of discourse in writing dealing with a particular point or idea.\"\n",
        "\n",
        "# Process the text using spaCy\n",
        "doc = nlp(text)\n",
        "\n",
        "# Initialize variables to store named entities\n",
        "named_entities = []\n",
        "\n",
        "# Define a function to extract named entities\n",
        "def extract_named_entities(doc):\n",
        "    entities = []\n",
        "    current_entity = None\n",
        "\n",
        "    for token in doc:\n",
        "        if token.ent_type_:\n",
        "            if current_entity and token.ent_type_ == current_entity[1]:\n",
        "                current_entity = (current_entity[0] + \" \" + token.text, token.ent_type_)\n",
        "            else:\n",
        "                if current_entity:\n",
        "                    entities.append(current_entity)\n",
        "                current_entity = (token.text, token.ent_type_)\n",
        "        else:\n",
        "            if current_entity:\n",
        "                entities.append(current_entity)\n",
        "            current_entity = None\n",
        "\n",
        "    if current_entity:\n",
        "        entities.append(current_entity)\n",
        "\n",
        "    return entities\n",
        "\n",
        "# Extract named entities\n",
        "named_entities = extract_named_entities(doc)\n",
        "\n",
        "# Print the named entities\n",
        "for entity, label in named_entities:\n",
        "    print(f\"Entity: {entity}, Label: {label}\")"
      ],
      "metadata": {
        "id": "X2IS2OTwX7ni"
      },
      "execution_count": 10,
      "outputs": []
    }
  ]
}