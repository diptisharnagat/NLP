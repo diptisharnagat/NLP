{
  "nbformat": 4,
  "nbformat_minor": 0,
  "metadata": {
    "colab": {
      "provenance": [],
      "authorship_tag": "ABX9TyN/xs6U8QLUavNRmI/fdfF6",
      "include_colab_link": true
    },
    "kernelspec": {
      "name": "python3",
      "display_name": "Python 3"
    },
    "language_info": {
      "name": "python"
    }
  },
  "cells": [
    {
      "cell_type": "markdown",
      "metadata": {
        "id": "view-in-github",
        "colab_type": "text"
      },
      "source": [
        "<a href=\"https://colab.research.google.com/github/diptisharnagat/NLP/blob/main/NLP_EXP_06.ipynb\" target=\"_parent\"><img src=\"https://colab.research.google.com/assets/colab-badge.svg\" alt=\"Open In Colab\"/></a>"
      ]
    },
    {
      "cell_type": "code",
      "execution_count": 1,
      "metadata": {
        "colab": {
          "base_uri": "https://localhost:8080/"
        },
        "id": "3qSMRvojTZPW",
        "outputId": "4a36833c-88ad-4a34-a40a-c2c110de7682"
      },
      "outputs": [
        {
          "output_type": "stream",
          "name": "stderr",
          "text": [
            "[nltk_data] Downloading package punkt to /root/nltk_data...\n",
            "[nltk_data]   Unzipping tokenizers/punkt.zip.\n",
            "[nltk_data] Downloading package averaged_perceptron_tagger to\n",
            "[nltk_data]     /root/nltk_data...\n",
            "[nltk_data]   Unzipping taggers/averaged_perceptron_tagger.zip.\n"
          ]
        },
        {
          "output_type": "execute_result",
          "data": {
            "text/plain": [
              "True"
            ]
          },
          "metadata": {},
          "execution_count": 1
        }
      ],
      "source": [
        "import nltk\n",
        "nltk.download('punkt')\n",
        "nltk.download('averaged_perceptron_tagger')"
      ]
    },
    {
      "cell_type": "code",
      "source": [
        "from nltk.chunk import RegexpParser\n",
        "from nltk.tokenize import word_tokenize"
      ],
      "metadata": {
        "id": "x8IQ7S_QTsrA"
      },
      "execution_count": 2,
      "outputs": []
    },
    {
      "cell_type": "code",
      "source": [
        "sentence = \"Paragraph are the group of sentences combined together, about a certain topic\""
      ],
      "metadata": {
        "id": "AmLqnfegT5L7"
      },
      "execution_count": 3,
      "outputs": []
    },
    {
      "cell_type": "markdown",
      "source": [
        "Tokenization"
      ],
      "metadata": {
        "id": "6PtN1R9uULJv"
      }
    },
    {
      "cell_type": "code",
      "source": [
        "tokens = word_tokenize(sentence)"
      ],
      "metadata": {
        "id": "IGI2tRfxUQ0W"
      },
      "execution_count": 4,
      "outputs": []
    },
    {
      "cell_type": "code",
      "source": [
        "tokens"
      ],
      "metadata": {
        "colab": {
          "base_uri": "https://localhost:8080/"
        },
        "id": "g_ClqSvMUW0Z",
        "outputId": "835be559-113b-44b8-ccd5-1c24b1698096"
      },
      "execution_count": 5,
      "outputs": [
        {
          "output_type": "execute_result",
          "data": {
            "text/plain": [
              "['ParagraphParagraphs',\n",
              " 'are',\n",
              " 'the',\n",
              " 'group',\n",
              " 'of',\n",
              " 'sentences',\n",
              " 'combined',\n",
              " 'together',\n",
              " ',',\n",
              " 'about',\n",
              " 'a',\n",
              " 'certain',\n",
              " 'topic']"
            ]
          },
          "metadata": {},
          "execution_count": 5
        }
      ]
    },
    {
      "cell_type": "markdown",
      "source": [
        "POS tagging"
      ],
      "metadata": {
        "id": "Bp14qVv_UqMl"
      }
    },
    {
      "cell_type": "code",
      "source": [
        "pos_tags = nltk.pos_tag(tokens)"
      ],
      "metadata": {
        "id": "kUNlShmYUpaW"
      },
      "execution_count": 6,
      "outputs": []
    },
    {
      "cell_type": "code",
      "source": [
        "pos_tags"
      ],
      "metadata": {
        "colab": {
          "base_uri": "https://localhost:8080/"
        },
        "id": "6yJd6DYyUgER",
        "outputId": "bb779698-fbcf-4e0e-fdff-ade73de71653"
      },
      "execution_count": 7,
      "outputs": [
        {
          "output_type": "execute_result",
          "data": {
            "text/plain": [
              "[('ParagraphParagraphs', 'NNS'),\n",
              " ('are', 'VBP'),\n",
              " ('the', 'DT'),\n",
              " ('group', 'NN'),\n",
              " ('of', 'IN'),\n",
              " ('sentences', 'NNS'),\n",
              " ('combined', 'VBN'),\n",
              " ('together', 'RB'),\n",
              " (',', ','),\n",
              " ('about', 'IN'),\n",
              " ('a', 'DT'),\n",
              " ('certain', 'JJ'),\n",
              " ('topic', 'NN')]"
            ]
          },
          "metadata": {},
          "execution_count": 7
        }
      ]
    },
    {
      "cell_type": "markdown",
      "source": [
        "Chunking patterns"
      ],
      "metadata": {
        "id": "j-QMVamTU6FZ"
      }
    },
    {
      "cell_type": "code",
      "source": [
        "chunk_patterns = r\"\"\"\n",
        "    NP: {<DT>?<JJ>*<NN>}  # Chunk noun phrases\n",
        "    VP: {<VB.*><NP|PP>}  # Chunk verb phrases\n",
        "\"\"\""
      ],
      "metadata": {
        "id": "xvqOserNUauH"
      },
      "execution_count": 8,
      "outputs": []
    },
    {
      "cell_type": "code",
      "source": [
        "chunk_patterns"
      ],
      "metadata": {
        "colab": {
          "base_uri": "https://localhost:8080/",
          "height": 36
        },
        "id": "3_P-w8v6VCnB",
        "outputId": "63b88fec-cb37-45ee-ab6b-4065b5c1e379"
      },
      "execution_count": 9,
      "outputs": [
        {
          "output_type": "execute_result",
          "data": {
            "text/plain": [
              "'\\n    NP: {<DT>?<JJ>*<NN>}  # Chunk noun phrases\\n    VP: {<VB.*><NP|PP>}  # Chunk verb phrases\\n'"
            ],
            "application/vnd.google.colaboratory.intrinsic+json": {
              "type": "string"
            }
          },
          "metadata": {},
          "execution_count": 9
        }
      ]
    },
    {
      "cell_type": "markdown",
      "source": [
        "Create a chunk parser\n"
      ],
      "metadata": {
        "id": "nBOn1qAkVLKU"
      }
    },
    {
      "cell_type": "code",
      "source": [
        "chunk_parser = RegexpParser(chunk_patterns)\n"
      ],
      "metadata": {
        "id": "MTNS28AvVPFl"
      },
      "execution_count": 10,
      "outputs": []
    },
    {
      "cell_type": "code",
      "source": [
        "chunk_parser\n"
      ],
      "metadata": {
        "colab": {
          "base_uri": "https://localhost:8080/"
        },
        "id": "17lpQDroVU4c",
        "outputId": "b44f4de9-c10a-4090-dc60-c92b9faa3010"
      },
      "execution_count": 12,
      "outputs": [
        {
          "output_type": "execute_result",
          "data": {
            "text/plain": [
              "<chunk.RegexpParser with 2 stages>"
            ]
          },
          "metadata": {},
          "execution_count": 12
        }
      ]
    },
    {
      "cell_type": "markdown",
      "source": [
        "Perform chunking"
      ],
      "metadata": {
        "id": "MeB1rlZ2Wgrb"
      }
    },
    {
      "cell_type": "code",
      "source": [
        "result = chunk_parser.parse(pos_tags)\n",
        "print(result)"
      ],
      "metadata": {
        "colab": {
          "base_uri": "https://localhost:8080/"
        },
        "id": "Rcor0fGJWgPn",
        "outputId": "74ef5b1f-82cd-474e-9137-2fd67d24d62f"
      },
      "execution_count": 13,
      "outputs": [
        {
          "output_type": "stream",
          "name": "stdout",
          "text": [
            "(S\n",
            "  ParagraphParagraphs/NNS\n",
            "  (VP are/VBP (NP the/DT group/NN))\n",
            "  of/IN\n",
            "  sentences/NNS\n",
            "  combined/VBN\n",
            "  together/RB\n",
            "  ,/,\n",
            "  about/IN\n",
            "  (NP a/DT certain/JJ topic/NN))\n"
          ]
        }
      ]
    }
  ]
}