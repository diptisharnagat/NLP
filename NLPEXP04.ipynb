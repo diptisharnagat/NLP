{
  "nbformat": 4,
  "nbformat_minor": 0,
  "metadata": {
    "colab": {
      "provenance": [],
      "authorship_tag": "ABX9TyPLVE84AHuxPNlbTxmlQGtf",
      "include_colab_link": true
    },
    "kernelspec": {
      "name": "python3",
      "display_name": "Python 3"
    },
    "language_info": {
      "name": "python"
    }
  },
  "cells": [
    {
      "cell_type": "markdown",
      "metadata": {
        "id": "view-in-github",
        "colab_type": "text"
      },
      "source": [
        "<a href=\"https://colab.research.google.com/github/diptisharnagat/NLP/blob/main/NLPEXP04.ipynb\" target=\"_parent\"><img src=\"https://colab.research.google.com/assets/colab-badge.svg\" alt=\"Open In Colab\"/></a>"
      ]
    },
    {
      "cell_type": "markdown",
      "source": [
        "Necessary Imports"
      ],
      "metadata": {
        "id": "ckXRYjSEZMJi"
      }
    },
    {
      "cell_type": "code",
      "execution_count": 2,
      "metadata": {
        "id": "RoBwZXvwY6vn"
      },
      "outputs": [],
      "source": [
        "import nltk, re, pprint, string\n",
        "from nltk import word_tokenize, sent_tokenize\n",
        "string.punctuation = string.punctuation +'“'+'”'+'-'+'’'+'‘'+'—'\n",
        "string.punctuation = string.punctuation.replace('.', '')\n",
        "file = open('./dataset.txt', encoding = 'utf8').read()"
      ]
    },
    {
      "cell_type": "markdown",
      "source": [
        "Preprocess of the Data\n"
      ],
      "metadata": {
        "id": "Q65oqfpzaEMz"
      }
    },
    {
      "cell_type": "code",
      "source": [
        "file_nl_removed = \"\"\n",
        "for line in file:\n",
        "  line_nl_removed = line.replace(\"\\n\", \" \")\n",
        "  file_nl_removed += line_nl_removed\n",
        "file_p = \"\".join([char for char in file_nl_removed if char not in string.punctuation])"
      ],
      "metadata": {
        "id": "YXWd9aFDaHY9"
      },
      "execution_count": 3,
      "outputs": []
    },
    {
      "cell_type": "markdown",
      "source": [
        "Statistics of the Data\n"
      ],
      "metadata": {
        "id": "cJ89n9WOaKQx"
      }
    },
    {
      "cell_type": "code",
      "source": [
        "nltk.download('punkt')"
      ],
      "metadata": {
        "colab": {
          "base_uri": "https://localhost:8080/"
        },
        "id": "x_tUD6T1atS9",
        "outputId": "69acdd5c-f149-4d04-b776-5357d4c2be8c"
      },
      "execution_count": 5,
      "outputs": [
        {
          "output_type": "stream",
          "name": "stderr",
          "text": [
            "[nltk_data] Downloading package punkt to /root/nltk_data...\n",
            "[nltk_data]   Unzipping tokenizers/punkt.zip.\n"
          ]
        },
        {
          "output_type": "execute_result",
          "data": {
            "text/plain": [
              "True"
            ]
          },
          "metadata": {},
          "execution_count": 5
        }
      ]
    },
    {
      "cell_type": "code",
      "source": [
        "sents = nltk.sent_tokenize(file_p)\n",
        "print(\"The number of sentences is\", len(sents))\n",
        "\n",
        "words = nltk.word_tokenize(file_p)\n",
        "print(\"The number of tokens is\", len(words))\n",
        "\n",
        "average_tokens = round(len(words)/len(sents))\n",
        "print(\"The average number of tokens per sentence is\",\n",
        "average_tokens)\n",
        "\n",
        "unique_tokens = set(words)\n",
        "print(\"The number of unique tokens are\", len(unique_tokens))"
      ],
      "metadata": {
        "colab": {
          "base_uri": "https://localhost:8080/"
        },
        "id": "GDG12DpGaR9K",
        "outputId": "3a5c9775-9361-4909-ce80-188e8e62eaad"
      },
      "execution_count": 6,
      "outputs": [
        {
          "output_type": "stream",
          "name": "stdout",
          "text": [
            "The number of sentences is 981\n",
            "The number of tokens is 27361\n",
            "The average number of tokens per sentence is 28\n",
            "The number of unique tokens are 3039\n"
          ]
        }
      ]
    },
    {
      "cell_type": "markdown",
      "source": [
        "Building the N-Gram Model"
      ],
      "metadata": {
        "id": "UJsnLgcWbRz3"
      }
    },
    {
      "cell_type": "code",
      "source": [
        "nltk.download('stopwords')"
      ],
      "metadata": {
        "colab": {
          "base_uri": "https://localhost:8080/"
        },
        "id": "vQ5FDo79but3",
        "outputId": "0339eb2a-c048-4275-99f1-1f0e702274e0"
      },
      "execution_count": 8,
      "outputs": [
        {
          "output_type": "stream",
          "name": "stderr",
          "text": [
            "[nltk_data] Downloading package stopwords to /root/nltk_data...\n",
            "[nltk_data]   Unzipping corpora/stopwords.zip.\n"
          ]
        },
        {
          "output_type": "execute_result",
          "data": {
            "text/plain": [
              "True"
            ]
          },
          "metadata": {},
          "execution_count": 8
        }
      ]
    },
    {
      "cell_type": "code",
      "source": [
        "\n",
        "from nltk.util import ngrams\n",
        "from nltk.corpus import stopwords\n",
        "stop_words = set(stopwords.words('english'))\n"
      ],
      "metadata": {
        "id": "gceguxSRbMju"
      },
      "execution_count": 9,
      "outputs": []
    },
    {
      "cell_type": "code",
      "source": [
        "unigram=[]\n",
        "bigram=[]\n",
        "trigram=[]\n",
        "fourgram=[]\n",
        "tokenized_text = []\n"
      ],
      "metadata": {
        "id": "TbQXdlBbbyQb"
      },
      "execution_count": 10,
      "outputs": []
    },
    {
      "cell_type": "code",
      "source": [
        "for sentence in sents:\n",
        "    sentence = sentence.lower()\n",
        "    sequence = word_tokenize(sentence)\n",
        "    for word in sequence:\n",
        "        if (word =='.'):\n",
        "            sequence.remove(word)\n",
        "        else:\n",
        "            unigram.append(word)\n",
        "    tokenized_text.append(sequence)\n",
        "    bigram.extend(list(ngrams(sequence, 2)))\n",
        "    trigram.extend(list(ngrams(sequence, 3)))\n",
        "    fourgram.extend(list(ngrams(sequence, 4)))\n",
        "\n",
        "#removes ngrams containing only stopwords\n",
        "def removal(x):\n",
        "    y = []\n",
        "    for pair in x:\n",
        "        count = 0\n",
        "        for word in pair:\n",
        "            if word in stop_words:\n",
        "                count = count or 0\n",
        "            else:\n",
        "                count = count or 1\n",
        "        if (count==1):\n",
        "            y.append(pair)\n",
        "    return(y)\n",
        "\n",
        "\n",
        "bigram = removal(bigram)\n",
        "trigram = removal(trigram)\n",
        "fourgram = removal(fourgram)\n",
        "freq_bi = nltk.FreqDist(bigram)\n",
        "freq_tri = nltk.FreqDist(trigram)\n",
        "freq_four = nltk.FreqDist(fourgram)\n",
        "print(\"Most common n-grams without stopword removal and without add-1 smoothing: \\n\")\n",
        "print (\"Most common bigrams: \", freq_bi.most_common(5))\n",
        "print (\"\\nMost common trigrams: \", freq_tri.most_common(5))\n",
        "print (\"\\nMost common fourgrams: \", freq_four.most_common(5))"
      ],
      "metadata": {
        "colab": {
          "base_uri": "https://localhost:8080/"
        },
        "id": "M_rfv9SkcCsO",
        "outputId": "c8969794-7db7-4deb-c331-87dc182793cc"
      },
      "execution_count": 11,
      "outputs": [
        {
          "output_type": "stream",
          "name": "stdout",
          "text": [
            "Most common n-grams without stopword removal and without add-1 smoothing: \n",
            "\n",
            "Most common bigrams:  [(('said', 'the'), 209), (('said', 'alice'), 115), (('the', 'queen'), 65), (('the', 'king'), 60), (('a', 'little'), 59)]\n",
            "\n",
            "Most common trigrams:  [(('the', 'mock', 'turtle'), 51), (('the', 'march', 'hare'), 30), (('said', 'the', 'king'), 29), (('the', 'white', 'rabbit'), 21), (('said', 'the', 'hatter'), 21)]\n",
            "\n",
            "Most common fourgrams:  [(('said', 'the', 'mock', 'turtle'), 19), (('she', 'said', 'to', 'herself'), 16), (('a', 'minute', 'or', 'two'), 11), (('said', 'the', 'march', 'hare'), 8), (('will', 'you', 'wont', 'you'), 8)]\n"
          ]
        }
      ]
    },
    {
      "cell_type": "markdown",
      "source": [
        "Script for downloading the stopwords using NLTK\n"
      ],
      "metadata": {
        "id": "ZrXqBVKMcOtc"
      }
    },
    {
      "cell_type": "code",
      "source": [
        "from nltk.corpus import stopwords\n",
        "stop_words = set(stopwords.words('english'))"
      ],
      "metadata": {
        "id": "s5HhRC9ocWCf"
      },
      "execution_count": 12,
      "outputs": []
    },
    {
      "cell_type": "markdown",
      "source": [
        "Print 10 Unigrams and Bigrams after removing stopwords\n"
      ],
      "metadata": {
        "id": "UuJY8A5OcgTj"
      }
    },
    {
      "cell_type": "code",
      "source": [
        "print(\"Most common n-grams with stopword removal and without add-1 smoothing: \\n\")\n",
        "unigram_sw_removed = [p for p in unigram if p not in stop_words]\n",
        "fdist = nltk.FreqDist(unigram_sw_removed)\n",
        "print(\"Most common unigrams: \", fdist.most_common(10))\n",
        "bigram_sw_removed = []\n",
        "bigram_sw_removed.extend(list(ngrams(unigram_sw_removed, 2)))\n",
        "fdist = nltk.FreqDist(bigram_sw_removed)\n",
        "print(\"\\nMost common bigrams: \", fdist.most_common(10))"
      ],
      "metadata": {
        "colab": {
          "base_uri": "https://localhost:8080/"
        },
        "id": "2YbBfW7Zckxl",
        "outputId": "175c89d5-5441-429b-ef78-81ece15b7182"
      },
      "execution_count": 13,
      "outputs": [
        {
          "output_type": "stream",
          "name": "stdout",
          "text": [
            "Most common n-grams with stopword removal and without add-1 smoothing: \n",
            "\n",
            "Most common unigrams:  [('said', 462), ('alice', 385), ('little', 128), ('one', 101), ('like', 85), ('know', 85), ('would', 83), ('went', 83), ('could', 77), ('thought', 74)]\n",
            "\n",
            "Most common bigrams:  [(('said', 'alice'), 122), (('mock', 'turtle'), 54), (('march', 'hare'), 31), (('said', 'king'), 29), (('thought', 'alice'), 26), (('white', 'rabbit'), 22), (('said', 'hatter'), 22), (('said', 'mock'), 20), (('said', 'caterpillar'), 18), (('said', 'gryphon'), 18)]\n"
          ]
        }
      ]
    },
    {
      "cell_type": "markdown",
      "source": [
        "Add-1 smoothing\n"
      ],
      "metadata": {
        "id": "p8dko6hzcn-u"
      }
    },
    {
      "cell_type": "code",
      "source": [
        "ngrams_all = {1:[], 2:[], 3:[], 4:[]}\n",
        "for i in range(4):\n",
        "    for each in tokenized_text:\n",
        "        for j in ngrams(each, i+1):\n",
        "            ngrams_all[i+1].append(j);\n",
        "ngrams_voc = {1:set([]), 2:set([]), 3:set([]), 4:set([])}\n",
        "for i in range(4):\n",
        "    for gram in ngrams_all[i+1]:\n",
        "        if gram not in ngrams_voc[i+1]:\n",
        "            ngrams_voc[i+1].add(gram)\n",
        "total_ngrams = {1:-1, 2:-1, 3:-1, 4:-1}\n",
        "total_voc = {1:-1, 2:-1, 3:-1, 4:-1}\n",
        "for i in range(4):\n",
        "    total_ngrams[i+1] = len(ngrams_all[i+1])\n",
        "    total_voc[i+1] = len(ngrams_voc[i+1])\n",
        "\n",
        "ngrams_prob = {1:[], 2:[], 3:[], 4:[]}\n",
        "for i in range(4):\n",
        "    for ngram in ngrams_voc[i+1]:\n",
        "        tlist = [ngram]\n",
        "        tlist.append(ngrams_all[i+1].count(ngram))\n",
        "        ngrams_prob[i+1].append(tlist)\n",
        "\n",
        "for i in range(4):\n",
        "    for ngram in ngrams_prob[i+1]:\n",
        "        ngram[-1] = (ngram[-1]+1)/(total_ngrams[i+1]+total_voc[i+1])"
      ],
      "metadata": {
        "id": "Z4d6Dxlmc5z4"
      },
      "execution_count": 14,
      "outputs": []
    },
    {
      "cell_type": "markdown",
      "source": [
        "Prints top 10 unigram, bigram, trigram, fourgram after smoothing\n"
      ],
      "metadata": {
        "id": "fEVNS688c-yX"
      }
    },
    {
      "cell_type": "code",
      "source": [
        "print(\"Most common n-grams without stopword removal and with add-1 smoothing: \\n\")\n",
        "for i in range(4):\n",
        "    ngrams_prob[i+1] = sorted(ngrams_prob[i+1], key = lambda x:x[1], reverse = True)\n",
        "\n",
        "print (\"Most common unigrams: \", str(ngrams_prob[1][:10]))\n",
        "print (\"\\nMost common bigrams: \", str(ngrams_prob[2][:10]))\n",
        "print (\"\\nMost common trigrams: \", str(ngrams_prob[3][:10]))\n",
        "print (\"\\nMost common fourgrams: \", str(ngrams_prob[4][:10]))"
      ],
      "metadata": {
        "colab": {
          "base_uri": "https://localhost:8080/"
        },
        "id": "Anc1DF8ydJIJ",
        "outputId": "821978aa-3093-466b-b2dc-b5fd9eae58c4"
      },
      "execution_count": 15,
      "outputs": [
        {
          "output_type": "stream",
          "name": "stdout",
          "text": [
            "Most common n-grams without stopword removal and with add-1 smoothing: \n",
            "\n",
            "Most common unigrams:  [[('the',), 0.05598462224968249], [('and',), 0.02900490852298081], [('to',), 0.02478289225277177], [('a',), 0.02155631071293722], [('she',), 0.018467030515223287], [('it',), 0.018089451824391582], [('of',), 0.017471595784848797], [('said',), 0.015892630350461675], [('i',), 0.013764459547592077], [('alice',), 0.013249579514639755]]\n",
            "\n",
            "Most common bigrams:  [[('said', 'the'), 0.0053395713087035016], [('of', 'the'), 0.0033308754354293268], [('said', 'alice'), 0.0029494774848076483], [('in', 'a'), 0.002491799944061634], [('and', 'the'), 0.002059548933357065], [('in', 'the'), 0.0020086958732741743], [('it', 'was'), 0.0019069897531083933], [('to', 'the'), 0.0017798571029011671], [('the', 'queen'), 0.0016781509827353861], [('as', 'she'), 0.0015764448625696051]]\n",
            "\n",
            "Most common trigrams:  [[('the', 'mock', 'turtle'), 0.001143837575064341], [('the', 'march', 'hare'), 0.0006819031697498955], [('said', 'the', 'king'), 0.0006599062933063505], [('the', 'white', 'rabbit'), 0.00048393128175799036], [('said', 'the', 'hatter'), 0.00048393128175799036], [('said', 'to', 'herself'), 0.0004399375288709003], [('said', 'the', 'mock'), 0.0004399375288709003], [('said', 'the', 'caterpillar'), 0.0004179406524273553], [('said', 'the', 'gryphon'), 0.0003959437759838103], [('she', 'said', 'to'), 0.0003959437759838103]]\n",
            "\n",
            "Most common fourgrams:  [[('said', 'the', 'mock', 'turtle'), 0.00043521782652217433], [('she', 'said', 'to', 'herself'), 0.0003699351525438482], [('a', 'minute', 'or', 'two'), 0.0002611306959133046], [('said', 'the', 'march', 'hare'), 0.00019584802193497845], [('will', 'you', 'wont', 'you'), 0.00019584802193497845], [('said', 'alice', 'in', 'a'), 0.00017408713060886974], [('well', 'as', 'she', 'could'), 0.00015232623928276102], [('you', 'wont', 'you', 'will'), 0.00015232623928276102], [('in', 'a', 'tone', 'of'), 0.00015232623928276102], [('the', 'moral', 'of', 'that'), 0.00015232623928276102]]\n"
          ]
        }
      ]
    },
    {
      "cell_type": "markdown",
      "source": [
        "Next word Prediction\n"
      ],
      "metadata": {
        "id": "JBuSoylCdPhJ"
      }
    },
    {
      "cell_type": "code",
      "source": [
        "str1 = 'after that alice said the'\n",
        "str2 = 'alice felt so desperate that she was'\n"
      ],
      "metadata": {
        "id": "TK2bQ5EVdSOo"
      },
      "execution_count": 16,
      "outputs": []
    },
    {
      "cell_type": "code",
      "source": [
        "token_1 = word_tokenize(str1)\n",
        "token_2 = word_tokenize(str2)\n",
        "ngram_1 = {1:[], 2:[], 3:[]}   #to store the n-grams formed\n",
        "ngram_2 = {1:[], 2:[], 3:[]}\n",
        "for i in range(3):\n",
        "    ngram_1[i+1] = list(ngrams(token_1, i+1))[-1]\n",
        "    ngram_2[i+1] = list(ngrams(token_2, i+1))[-1]\n",
        "print(\"String 1: \", ngram_1,\"\\nString 2: \",ngram_2)"
      ],
      "metadata": {
        "colab": {
          "base_uri": "https://localhost:8080/"
        },
        "id": "uJ7LhNlpdU80",
        "outputId": "4b4912a3-fdf5-48dc-d570-bbd609ad158c"
      },
      "execution_count": 17,
      "outputs": [
        {
          "output_type": "stream",
          "name": "stdout",
          "text": [
            "String 1:  {1: ('the',), 2: ('said', 'the'), 3: ('alice', 'said', 'the')} \n",
            "String 2:  {1: ('was',), 2: ('she', 'was'), 3: ('that', 'she', 'was')}\n"
          ]
        }
      ]
    },
    {
      "cell_type": "code",
      "source": [
        "for i in range(4):\n",
        "    ngrams_prob[i+1] = sorted(ngrams_prob[i+1], key = lambda x:x[1], reverse = True)\n",
        "\n",
        "pred_1 = {1:[], 2:[], 3:[]}\n",
        "for i in range(3):\n",
        "    count = 0\n",
        "    for each in ngrams_prob[i+2]:\n",
        "        if each[0][:-1] == ngram_1[i+1]:\n",
        "#to find predictions based on highest probability of n-grams\n",
        "\n",
        "            count +=1\n",
        "            pred_1[i+1].append(each[0][-1])\n",
        "            if count ==5:\n",
        "                break\n",
        "    if count<5:\n",
        "        while(count!=5):\n",
        "            pred_1[i+1].append(\"NOT FOUND\")\n",
        "#if no word prediction is found, replace with NOT FOUND\n",
        "            count +=1\n",
        "for i in range(4):\n",
        "    ngrams_prob[i+1] = sorted(ngrams_prob[i+1], key = lambda x:x[1], reverse = True)\n",
        "\n",
        "pred_2 = {1:[], 2:[], 3:[]}\n",
        "for i in range(3):\n",
        "    count = 0\n",
        "    for each in ngrams_prob[i+2]:\n",
        "        if each[0][:-1] == ngram_2[i+1]:\n",
        "            count +=1\n",
        "            pred_2[i+1].append(each[0][-1])\n",
        "            if count ==5:\n",
        "                break\n",
        "    if count<5:\n",
        "        while(count!=5):\n",
        "            pred_2[i+1].append(\"\\0\")\n",
        "            count +=1"
      ],
      "metadata": {
        "id": "0_wZMT3kdsDz"
      },
      "execution_count": 18,
      "outputs": []
    },
    {
      "cell_type": "code",
      "source": [
        "print(\"Next word predictions for the strings using the probability models of bigrams, trigrams, and fourgrams\\n\")\n",
        "print(\"String 1 - after that alice said the-\\n\")\n",
        "print(\"Bigram model predictions: {}\\nTrigram model predictions: {}\\nFourgram model predictions: {}\\n\" .format(pred_1[1], pred_1[2], pred_1[3]))\n",
        "print(\"String 2 - alice felt so desperate that she was-\\n\")\n",
        "print(\"Bigram model predictions: {}\\nTrigram model predictions: {}\\nFourgram model predictions: {}\" .format(pred_2[1], pred_2[2], pred_2[3]))"
      ],
      "metadata": {
        "colab": {
          "base_uri": "https://localhost:8080/"
        },
        "id": "Lgy_SVzzdyOi",
        "outputId": "ed60f0c0-22a2-4d29-8313-78151be46dfa"
      },
      "execution_count": 19,
      "outputs": [
        {
          "output_type": "stream",
          "name": "stdout",
          "text": [
            "Next word predictions for the strings using the probability models of bigrams, trigrams, and fourgrams\n",
            "\n",
            "String 1 - after that alice said the-\n",
            "\n",
            "Bigram model predictions: ['queen', 'king', 'mock', 'gryphon', 'hatter']\n",
            "Trigram model predictions: ['king', 'hatter', 'mock', 'caterpillar', 'gryphon']\n",
            "Fourgram model predictions: ['NOT FOUND', 'NOT FOUND', 'NOT FOUND', 'NOT FOUND', 'NOT FOUND']\n",
            "\n",
            "String 2 - alice felt so desperate that she was-\n",
            "\n",
            "Bigram model predictions: ['a', 'the', 'not', 'that', 'going']\n",
            "Trigram model predictions: ['now', 'quite', 'a', 'beginning', 'looking']\n",
            "Fourgram model predictions: ['now', 'walking', 'ready', 'quite', 'in']\n"
          ]
        }
      ]
    }
  ]
}